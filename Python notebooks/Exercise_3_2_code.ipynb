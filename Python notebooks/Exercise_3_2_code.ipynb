{
  "nbformat": 4,
  "nbformat_minor": 0,
  "metadata": {
    "colab": {
      "name": "jaynes3.2",
      "provenance": [],
      "collapsed_sections": []
    },
    "kernelspec": {
      "name": "python3",
      "display_name": "Python 3"
    }
  },
  "cells": [
    {
      "cell_type": "markdown",
      "metadata": {
        "id": "SSSACMJXTDlR",
        "colab_type": "text"
      },
      "source": [
        "## Exercise 3.2"
      ]
    },
    {
      "cell_type": "code",
      "metadata": {
        "id": "JQwjg0p_FQmY",
        "colab_type": "code",
        "colab": {
          "base_uri": "https://localhost:8080/",
          "height": 712
        },
        "outputId": "d6bbedc3-bab6-4a62-a74b-9c78281ce3c7"
      },
      "source": [
        "from itertools import combinations\n",
        "from scipy.special import comb, perm\n",
        "import numpy as np\n",
        "\n",
        "\n",
        "def prob_all_colors_drawn(m, N):\n",
        "    ''' \n",
        "    m is number of balls drawn\n",
        "    N is a list containing how many of each color is in the urn \n",
        "    '''\n",
        "    k = len(N) # number of colors\n",
        "    \n",
        "    total = 1.0 # start with 1\n",
        "    for i in range(1,k+1):\n",
        "\n",
        "        # calculate each sum term\n",
        "        conjunction_prob = 0\n",
        "        for Ns in combinations(N, i): # for all combinations of i colors\n",
        "            conjunction_prob += comb(sum(N) - sum(Ns), m,True)/comb(sum(N),m,True)\n",
        "\n",
        "        # alternately add or subtract the sum term \n",
        "        total += ((-1)**i)*conjunction_prob\n",
        "    return total\n",
        "\n",
        "N = [10,10,10,10,10] # define the urn\n",
        "for i in range(40):\n",
        "    print(\"Draw {:2d} balls, prob = {:.5f}\".format(i, prob_all_colors_drawn(i, N)))"
      ],
      "execution_count": 30,
      "outputs": [
        {
          "output_type": "stream",
          "text": [
            "Draw  0 balls, prob = 0.00000\n",
            "Draw  1 balls, prob = -0.00000\n",
            "Draw  2 balls, prob = -0.00000\n",
            "Draw  3 balls, prob = -0.00000\n",
            "Draw  4 balls, prob = -0.00000\n",
            "Draw  5 balls, prob = 0.04720\n",
            "Draw  6 balls, prob = 0.14159\n",
            "Draw  7 balls, prob = 0.26280\n",
            "Draw  8 balls, prob = 0.39045\n",
            "Draw  9 balls, prob = 0.51074\n",
            "Draw 10 balls, prob = 0.61647\n",
            "Draw 11 balls, prob = 0.70513\n",
            "Draw 12 balls, prob = 0.77701\n",
            "Draw 13 balls, prob = 0.83382\n",
            "Draw 14 balls, prob = 0.87783\n",
            "Draw 15 balls, prob = 0.91133\n",
            "Draw 16 balls, prob = 0.93647\n",
            "Draw 17 balls, prob = 0.95507\n",
            "Draw 18 balls, prob = 0.96865\n",
            "Draw 19 balls, prob = 0.97843\n",
            "Draw 20 balls, prob = 0.98538\n",
            "Draw 21 balls, prob = 0.99025\n",
            "Draw 22 balls, prob = 0.99361\n",
            "Draw 23 balls, prob = 0.99589\n",
            "Draw 24 balls, prob = 0.99741\n",
            "Draw 25 balls, prob = 0.99841\n",
            "Draw 26 balls, prob = 0.99905\n",
            "Draw 27 balls, prob = 0.99944\n",
            "Draw 28 balls, prob = 0.99969\n",
            "Draw 29 balls, prob = 0.99983\n",
            "Draw 30 balls, prob = 0.99991\n",
            "Draw 31 balls, prob = 0.99996\n",
            "Draw 32 balls, prob = 0.99998\n",
            "Draw 33 balls, prob = 0.99999\n",
            "Draw 34 balls, prob = 1.00000\n",
            "Draw 35 balls, prob = 1.00000\n",
            "Draw 36 balls, prob = 1.00000\n",
            "Draw 37 balls, prob = 1.00000\n",
            "Draw 38 balls, prob = 1.00000\n",
            "Draw 39 balls, prob = 1.00000\n"
          ],
          "name": "stdout"
        }
      ]
    },
    {
      "cell_type": "markdown",
      "metadata": {
        "id": "er3-vNORSJ6_",
        "colab_type": "text"
      },
      "source": [
        "## Monte Carlo approximation\n",
        "\n",
        "We can verify the correctness of our solution above by simulating drawing from an urn and see if the frequency of getting all colors is the same as the probability given above."
      ]
    },
    {
      "cell_type": "code",
      "metadata": {
        "id": "-UR5Zjm_VbIH",
        "colab_type": "code",
        "colab": {}
      },
      "source": [
        "import numpy as np\n",
        "\n",
        "def draw_from_urn(m,N):\n",
        "    ''' draws m balls from the urn '''\n",
        "    N = N.copy()\n",
        "    out = np.array([0]*len(N))\n",
        "    for i in range(m):\n",
        "        choice = np.random.choice(len(N), p=N/np.sum(N))\n",
        "        out[choice] += 1\n",
        "        N[choice] -= 1\n",
        "    return out"
      ],
      "execution_count": 41,
      "outputs": []
    },
    {
      "cell_type": "code",
      "metadata": {
        "id": "KRnsALWd9h9p",
        "colab_type": "code",
        "colab": {
          "base_uri": "https://localhost:8080/",
          "height": 52
        },
        "outputId": "7421b9e8-6372-4ab7-fffe-bf47c609ac65"
      },
      "source": [
        "n = 5000 # number of simulations\n",
        "\n",
        "num_all = 0\n",
        "for i in range(n):\n",
        "    if(np.all(draw_from_urn(7,[10,10,10,10,10]) > 0)):  # if there is at least one of each color\n",
        "        num_all += 1\n",
        "\n",
        "print(\"Approximate probability of drawing all colors after 7 draws: \", num_all/n)\n",
        "print(\"Exact probability: \", prob_all_colors_drawn(7, [10,10,10,10,10]))\n",
        "\n"
      ],
      "execution_count": 32,
      "outputs": [
        {
          "output_type": "stream",
          "text": [
            "Approximate probability of drawing all colors after 7 draws:  0.2618\n",
            "Exact probability:  0.26280380119418056\n"
          ],
          "name": "stdout"
        }
      ]
    },
    {
      "cell_type": "markdown",
      "metadata": {
        "id": "SAgwLq2aUm9Z",
        "colab_type": "text"
      },
      "source": [
        "## Exercise 3.3"
      ]
    },
    {
      "cell_type": "code",
      "metadata": {
        "colab_type": "code",
        "id": "9QTfs71dUkKH",
        "colab": {
          "base_uri": "https://localhost:8080/",
          "height": 89
        },
        "outputId": "ac77118f-1efe-46bd-aae3-96ed1b2e197e"
      },
      "source": [
        "from itertools import combinations\n",
        "from scipy.special import comb, perm\n",
        "import numpy as np\n",
        "\n",
        "\n",
        "def prob_3_colors_drawn(m, N):\n",
        "    ''' \n",
        "    This function calculates p(~A1,~A2,~A3,A4,A5...Ak| k, Ns)\n",
        "    m is number of balls drawn\n",
        "    N is a list containing how many of each color is in the urn \n",
        "    '''\n",
        "    k = len(N) # number of colors\n",
        "    N = np.array(N)\n",
        "    \n",
        "    total = 1 # start with 1\n",
        "    for i in range(1,4):\n",
        "\n",
        "        # calculate each sum term\n",
        "        conjunction_prob = 0\n",
        "        for Ns in combinations(N[:3], i): # for all combinations of i colors\n",
        "            conjunction_prob += comb(sum(N) - sum(Ns)-sum(N[3:]), m)/comb(sum(N)-sum(N[3:]),m)\n",
        "            #print(Ns, conjunction_prob)\n",
        "\n",
        "        # alternately add or subtract the sum term \n",
        "        total += ((-1)**(i))*conjunction_prob\n",
        "    \n",
        "    # prob(A_4, A_5, ...)\n",
        "    total *= comb(sum(N) - sum(N[3:]), m)/comb(sum(N),m)\n",
        "    return total\n",
        "\n",
        "\n",
        "print(\"lower bound on p(colors=3|k=3) = {:.5f}\\n\".format(prob_3_colors_drawn(20, [48,1,1])))\n",
        "\n",
        "posterior_upper_bound = np.zeros((40,))\n",
        "for k in range(3,40):\n",
        "    N = [int((50-k)/3)]*3 + [1]*(k-3)\n",
        "    posterior_upper_bound[k] = 6.66*comb(len(N),3)*prob_3_colors_drawn(20, N)\n",
        "    #print(\"N = \", N)\n",
        "    #print(\"k ={:2d}, upper bound on prob = {:.5f}\\n\".format(k, posterior_upper_bound[k]))"
      ],
      "execution_count": 33,
      "outputs": [
        {
          "output_type": "stream",
          "text": [
            "lower bound on p(colors=3|k=3) = 0.15510\n",
            "\n"
          ],
          "name": "stdout"
        },
        {
          "output_type": "stream",
          "text": [
            "/usr/local/lib/python3.6/dist-packages/ipykernel_launcher.py:21: RuntimeWarning: invalid value encountered in double_scalars\n"
          ],
          "name": "stderr"
        }
      ]
    },
    {
      "cell_type": "code",
      "metadata": {
        "id": "qZUg_kJ5lstk",
        "colab_type": "code",
        "colab": {
          "base_uri": "https://localhost:8080/",
          "height": 156
        },
        "outputId": "7e11214f-742f-4c72-d6b9-2665c0ed14c8"
      },
      "source": [
        "posterior_upper_bound = np.nan_to_num(posterior_upper_bound)\n",
        "np.set_printoptions(precision=3, suppress=True)\n",
        "\n",
        "print(\"Full upper bound on posterior over k:\")\n",
        "print(posterior_upper_bound,\"\\n\")\n",
        "\n",
        "print(\"Upper bound on probability that k > 20:\")\n",
        "print(sum(posterior_upper_bound[21:]))"
      ],
      "execution_count": 34,
      "outputs": [
        {
          "output_type": "stream",
          "text": [
            "Full upper bound on posterior over k:\n",
            "[ 0.     0.     0.     6.66  15.057 21.624 21.589 21.355 19.628 12.164\n",
            "  9.822  7.758  3.378  2.482  1.815  0.548  0.381  0.266  0.052  0.035\n",
            "  0.023  0.002  0.002  0.001  0.     0.     0.     0.     0.     0.\n",
            "  0.     0.     0.     0.     0.     0.     0.     0.     0.     0.   ] \n",
            "\n",
            "Upper bound on probability that k > 20:\n",
            "0.005271749464451704\n"
          ],
          "name": "stdout"
        }
      ]
    },
    {
      "cell_type": "markdown",
      "metadata": {
        "id": "OUF1W2PSgY3_",
        "colab_type": "text"
      },
      "source": [
        "The above upper bound on the probability that $k > 20$ allows us to say that with at least 99% confidence that $3 \\le k \\le 20$. \n",
        "\n",
        "\n",
        "## Monte carlo again\n",
        "We confirm the quality of the function above by comparing it to a monte carlo estimate."
      ]
    },
    {
      "cell_type": "code",
      "metadata": {
        "id": "ktHLd8pSi7D7",
        "colab_type": "code",
        "colab": {
          "base_uri": "https://localhost:8080/",
          "height": 52
        },
        "outputId": "75bb7330-2515-41fd-bd2a-47ce26409622"
      },
      "source": [
        "n = 10000 # number of simulations\n",
        "N = [15,15,15,1,1]\n",
        "\n",
        "num_three = 0\n",
        "for i in range(n):\n",
        "    out = draw_from_urn(20,N) > 0\n",
        "    if(np.all(out[:3]) and not np.any(out[3:])):  # if there is at least one of each color\n",
        "        num_three += 1\n",
        "\n",
        "print(\"Estimate: \", num_three/n)\n",
        "\n",
        "print(\"True answer: \", prob_3_colors_drawn(20, N))\n",
        "\n"
      ],
      "execution_count": 35,
      "outputs": [
        {
          "output_type": "stream",
          "text": [
            "Estimate:  0.3218\n",
            "True answer:  0.32469011964911704\n"
          ],
          "name": "stdout"
        }
      ]
    },
    {
      "cell_type": "code",
      "metadata": {
        "id": "yT6wI0EFsyzp",
        "colab_type": "code",
        "colab": {}
      },
      "source": [
        ""
      ],
      "execution_count": 35,
      "outputs": []
    },
    {
      "cell_type": "markdown",
      "metadata": {
        "id": "zUBrPKszhAxZ",
        "colab_type": "text"
      },
      "source": [
        "## 2nd Alternative Solution\n",
        "This solution calculates the exact likelihood instead of an upper bound on it (equations derived in Alternative Solution), and uses it to tighten the upper bound on the posterior.\n",
        "\n"
      ]
    },
    {
      "cell_type": "code",
      "metadata": {
        "colab_type": "code",
        "id": "dmSDJG9jszFa",
        "colab": {}
      },
      "source": [
        "from itertools import combinations\n",
        "from scipy.special import comb, perm\n",
        "import numpy as np\n",
        "\n",
        "def prob_any_3_colors_drawn(m, N): # probability that any m colors are drawn\n",
        "    k = len(N)\n",
        "    N = np.array(N)\n",
        "\n",
        "    total = 0.0\n",
        "    for i in [1,2,3]:\n",
        "        conjunction_prob = 0\n",
        "        for Ns in combinations(N, i):\n",
        "            conjunction_prob += comb(k-i, 3-i)*comb(sum(Ns), m)\n",
        "        total += ((-1)**(i-1))*conjunction_prob\n",
        "    total /= comb(sum(N), m)\n",
        "    return total\n",
        "\n",
        "posterior_upper_bound = np.zeros((40,))\n",
        "for k in range(3,40):\n",
        "    N = [int((50-k)/3)]*3 + [1]*(k-3)\n",
        "    posterior_upper_bound[k] = (6.66*prob_any_3_colors_drawn(20, N))"
      ],
      "execution_count": 36,
      "outputs": []
    },
    {
      "cell_type": "markdown",
      "metadata": {
        "id": "RPLX4rScpbqi",
        "colab_type": "text"
      },
      "source": [
        "Shown below is the upper bound on the probability that $k > 13$. Hence we can be more than 99% sure that $3 \\ge k \\ge 13$."
      ]
    },
    {
      "cell_type": "code",
      "metadata": {
        "colab_type": "code",
        "id": "WHe9uPGyszFq",
        "colab": {
          "base_uri": "https://localhost:8080/",
          "height": 156
        },
        "outputId": "1065e757-b37d-4111-fd5f-35a2be5e1242"
      },
      "source": [
        "np.set_printoptions(precision=3, suppress=True)\n",
        "print(\"Full upper bound on posterior over k:\")\n",
        "print(posterior_upper_bound,\"\\n\")\n",
        "print(\"Upper bound on probability that k > 13:\")\n",
        "print(sum(posterior_upper_bound[14:])) # upper bound on the probability that k >= 14"
      ],
      "execution_count": 37,
      "outputs": [
        {
          "output_type": "stream",
          "text": [
            "Full upper bound on posterior over k:\n",
            "[0.    0.    0.    6.66  3.764 2.163 1.08  0.61  0.351 0.145 0.082 0.047\n",
            " 0.015 0.009 0.005 0.001 0.001 0.    0.    0.    0.    0.    0.    0.\n",
            " 0.    0.    0.    0.    0.    0.    0.    0.    0.    0.    0.    0.\n",
            " 0.    0.    0.    0.   ] \n",
            "\n",
            "Upper bound on probability that k > 13:\n",
            "0.007385411327220326\n"
          ],
          "name": "stdout"
        }
      ]
    },
    {
      "cell_type": "markdown",
      "metadata": {
        "colab_type": "text",
        "id": "ILAz9rlBszFz"
      },
      "source": [
        "We confirm the quality of the function above by comparing it to a monte carlo estimate."
      ]
    },
    {
      "cell_type": "code",
      "metadata": {
        "colab_type": "code",
        "id": "l4wnd4wv0ZXi",
        "colab": {
          "base_uri": "https://localhost:8080/",
          "height": 52
        },
        "outputId": "db1d5c05-5000-4af1-ba8d-87b9063e6420"
      },
      "source": [
        "n = 10000 # number of simulations\n",
        "N = [1,5,5,14,1]\n",
        "\n",
        "num_three = 0\n",
        "for i in range(n):\n",
        "    out = draw_from_urn(20,N) > 0\n",
        "    if sum(out > 0) == 3:\n",
        "        num_three += 1\n",
        "\n",
        "print(\"Estimate: \", num_three/n)\n",
        "\n",
        "print(\"True answer: \", prob_any_3_colors_drawn(20, N))\n",
        "\n"
      ],
      "execution_count": null,
      "outputs": [
        {
          "output_type": "stream",
          "text": [
            "Estimate:  0.0461\n",
            "True answer:  0.04617122008426356\n"
          ],
          "name": "stdout"
        }
      ]
    }
  ]
}