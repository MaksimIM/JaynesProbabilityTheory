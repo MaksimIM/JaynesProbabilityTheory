{
  "nbformat": 4,
  "nbformat_minor": 0,
  "metadata": {
    "colab": {
      "name": "jaynes3.2",
      "provenance": [],
      "collapsed_sections": []
    },
    "kernelspec": {
      "name": "python3",
      "display_name": "Python 3"
    }
  },
  "cells": [
    {
      "cell_type": "markdown",
      "metadata": {
        "id": "SSSACMJXTDlR",
        "colab_type": "text"
      },
      "source": [
        "## Exercise 3.2"
      ]
    },
    {
      "cell_type": "code",
      "metadata": {
        "id": "JQwjg0p_FQmY",
        "colab_type": "code",
        "colab": {
          "base_uri": "https://localhost:8080/",
          "height": 712
        },
        "outputId": "7998bcdf-ff58-460b-bbea-1e0fb349b76b"
      },
      "source": [
        "from itertools import combinations\n",
        "from scipy.special import comb, perm\n",
        "import numpy as np\n",
        "\n",
        "\n",
        "def prob_all_colors_drawn(m, N):\n",
        "    ''' \n",
        "    m is number of balls drawn\n",
        "    N is a list containing how many of each color is in the urn \n",
        "    '''\n",
        "    k = len(N) # number of colors\n",
        "    \n",
        "    total = 1.0 # start with 1\n",
        "    for i in range(1,k+1):\n",
        "\n",
        "        # calculate each sum term\n",
        "        conjunction_prob = 0\n",
        "        for Ns in combinations(N, i): # for all combinations of i colors\n",
        "            conjunction_prob += comb(sum(N) - sum(Ns), m,True)/comb(sum(N),m,True)\n",
        "\n",
        "        # alternately add or subtract the sum term \n",
        "        total += ((-1)**i)*conjunction_prob\n",
        "    return total\n",
        "\n",
        "N = [10,10,10,10,10] # define the urn\n",
        "for i in range(40):\n",
        "    print(\"Draw {:2d} balls, prob = {:.5f}\".format(i, prob_all_colors_drawn(i, N)))"
      ],
      "execution_count": null,
      "outputs": [
        {
          "output_type": "stream",
          "text": [
            "Draw  0 balls, prob = 0.00000\n",
            "Draw  1 balls, prob = -0.00000\n",
            "Draw  2 balls, prob = -0.00000\n",
            "Draw  3 balls, prob = -0.00000\n",
            "Draw  4 balls, prob = -0.00000\n",
            "Draw  5 balls, prob = 0.04720\n",
            "Draw  6 balls, prob = 0.14159\n",
            "Draw  7 balls, prob = 0.26280\n",
            "Draw  8 balls, prob = 0.39045\n",
            "Draw  9 balls, prob = 0.51074\n",
            "Draw 10 balls, prob = 0.61647\n",
            "Draw 11 balls, prob = 0.70513\n",
            "Draw 12 balls, prob = 0.77701\n",
            "Draw 13 balls, prob = 0.83382\n",
            "Draw 14 balls, prob = 0.87783\n",
            "Draw 15 balls, prob = 0.91133\n",
            "Draw 16 balls, prob = 0.93647\n",
            "Draw 17 balls, prob = 0.95507\n",
            "Draw 18 balls, prob = 0.96865\n",
            "Draw 19 balls, prob = 0.97843\n",
            "Draw 20 balls, prob = 0.98538\n",
            "Draw 21 balls, prob = 0.99025\n",
            "Draw 22 balls, prob = 0.99361\n",
            "Draw 23 balls, prob = 0.99589\n",
            "Draw 24 balls, prob = 0.99741\n",
            "Draw 25 balls, prob = 0.99841\n",
            "Draw 26 balls, prob = 0.99905\n",
            "Draw 27 balls, prob = 0.99944\n",
            "Draw 28 balls, prob = 0.99969\n",
            "Draw 29 balls, prob = 0.99983\n",
            "Draw 30 balls, prob = 0.99991\n",
            "Draw 31 balls, prob = 0.99996\n",
            "Draw 32 balls, prob = 0.99998\n",
            "Draw 33 balls, prob = 0.99999\n",
            "Draw 34 balls, prob = 1.00000\n",
            "Draw 35 balls, prob = 1.00000\n",
            "Draw 36 balls, prob = 1.00000\n",
            "Draw 37 balls, prob = 1.00000\n",
            "Draw 38 balls, prob = 1.00000\n",
            "Draw 39 balls, prob = 1.00000\n"
          ],
          "name": "stdout"
        }
      ]
    },
    {
      "cell_type": "markdown",
      "metadata": {
        "id": "er3-vNORSJ6_",
        "colab_type": "text"
      },
      "source": [
        "## Monte Carlo approximation\n",
        "\n",
        "We can verify the correctness of our solution above by simulating drawing from an urn and see if the frequency of getting all colors is the same as the probability given above."
      ]
    },
    {
      "cell_type": "code",
      "metadata": {
        "id": "-UR5Zjm_VbIH",
        "colab_type": "code",
        "colab": {}
      },
      "source": [
        "import numpy as np\n",
        "\n",
        "def draw_from_urn(m,N):\n",
        "    ''' draws m balls from the urn '''\n",
        "    N = N.copy()\n",
        "    out = np.array([0]*len(N))\n",
        "    for i in range(m):\n",
        "        choice = np.random.choice(5, p=N/np.sum(N))\n",
        "        out[choice] += 1\n",
        "        N[choice] -= 1\n",
        "    return out"
      ],
      "execution_count": null,
      "outputs": []
    },
    {
      "cell_type": "code",
      "metadata": {
        "id": "KRnsALWd9h9p",
        "colab_type": "code",
        "colab": {
          "base_uri": "https://localhost:8080/",
          "height": 52
        },
        "outputId": "727a4f01-fdb1-4719-a51d-6f09997a240b"
      },
      "source": [
        "n = 5000 # number of simulations\n",
        "\n",
        "num_all = 0\n",
        "for i in range(n):\n",
        "    if(np.all(draw_from_urn(7,[10,10,10,10,10]) > 0)):  # if there is at least one of each color\n",
        "        num_all += 1\n",
        "\n",
        "print(\"Approximate probability of drawing all colors after 7 draws: \", num_all/n)\n",
        "print(\"Exact probability: \", prob_all_colors_drawn(7, [10,10,10,10,10]))\n",
        "\n"
      ],
      "execution_count": null,
      "outputs": [
        {
          "output_type": "stream",
          "text": [
            "Approximate probability of drawing all colors after 7 draws:  0.2584\n",
            "Exact probability:  0.26280380119418056\n"
          ],
          "name": "stdout"
        }
      ]
    },
    {
      "cell_type": "markdown",
      "metadata": {
        "id": "SAgwLq2aUm9Z",
        "colab_type": "text"
      },
      "source": [
        "## Exercise 3.3"
      ]
    },
    {
      "cell_type": "code",
      "metadata": {
        "colab_type": "code",
        "id": "9QTfs71dUkKH",
        "colab": {
          "base_uri": "https://localhost:8080/",
          "height": 1000
        },
        "outputId": "042cf5cc-a260-45dc-e2cd-0ee12d8a3afe"
      },
      "source": [
        "from itertools import combinations\n",
        "from scipy.special import comb, perm\n",
        "import numpy as np\n",
        "\n",
        "\n",
        "def prob_3_colors_drawn(m, N):\n",
        "    ''' \n",
        "    This function calculates p(~A1,~A2,~A3,A4,A5...Ak| k, Ns)\n",
        "    m is number of balls drawn\n",
        "    N is a list containing how many of each color is in the urn \n",
        "    '''\n",
        "    k = len(N) # number of colors\n",
        "    N = np.array(N)\n",
        "    \n",
        "    total = 1 # start with 1\n",
        "    for i in range(1,4):\n",
        "\n",
        "        # calculate each sum term\n",
        "        conjunction_prob = 0\n",
        "        for Ns in combinations(N[:3], i): # for all combinations of i colors\n",
        "            conjunction_prob += comb(sum(N) - sum(Ns)-sum(N[3:]), m)/comb(sum(N)-sum(N[3:]),m)\n",
        "            #print(Ns, conjunction_prob)\n",
        "\n",
        "        # alternately add or subtract the sum term \n",
        "        total += ((-1)**(i))*conjunction_prob\n",
        "    \n",
        "    # prob(A_4, A_5, ...)\n",
        "    total *= comb(sum(N) - sum(N[3:]), m)/comb(sum(N),m)\n",
        "    return total\n",
        "\n",
        "\n",
        "print(\"lower bound on p(colors=3|k=3) = {:.5f}\\n\".format(prob_3_colors_drawn(20, [48,1,1])))\n",
        "\n",
        "for k in range(1,40):\n",
        "    N = [int((50-k)/3)]*3 + [1]*(k-1)\n",
        "    print(\"N = \", N)\n",
        "    print(\"k ={:2d}, upper bound on prob = {:.5f}\\n\".format(k, 6.66*comb(len(N),3)*prob_3_colors_drawn(20, N)))"
      ],
      "execution_count": null,
      "outputs": [
        {
          "output_type": "stream",
          "text": [
            "lower bound on p(colors=3|k=3) = 0.15510\n",
            "\n",
            "N =  [16, 16, 16]\n",
            "k = 1, upper bound on prob = 6.65973\n",
            "\n",
            "N =  [16, 16, 16, 1]\n",
            "k = 2, upper bound on prob = 15.76589\n",
            "\n",
            "N =  [15, 15, 15, 1, 1]\n",
            "k = 3, upper bound on prob = 21.62436\n",
            "\n",
            "N =  [15, 15, 15, 1, 1, 1]\n",
            "k = 4, upper bound on prob = 25.22842\n",
            "\n",
            "N =  [15, 15, 15, 1, 1, 1, 1]\n",
            "k = 5, upper bound on prob = 26.12944\n",
            "\n",
            "N =  [14, 14, 14, 1, 1, 1, 1, 1]\n",
            "k = 6, upper bound on prob = 19.62823\n",
            "\n",
            "N =  [14, 14, 14, 1, 1, 1, 1, 1, 1]\n",
            "k = 7, upper bound on prob = 17.17471\n",
            "\n",
            "N =  [14, 14, 14, 1, 1, 1, 1, 1, 1, 1]\n",
            "k = 8, upper bound on prob = 14.52089\n",
            "\n",
            "N =  [13, 13, 13, 1, 1, 1, 1, 1, 1, 1, 1]\n",
            "k = 9, upper bound on prob = 7.75817\n",
            "\n",
            "N =  [13, 13, 13, 1, 1, 1, 1, 1, 1, 1, 1, 1]\n",
            "k =10, upper bound on prob = 6.03414\n",
            "\n",
            "N =  [13, 13, 13, 1, 1, 1, 1, 1, 1, 1, 1, 1, 1]\n",
            "k =11, upper bound on prob = 4.64259\n",
            "\n",
            "N =  [12, 12, 12, 1, 1, 1, 1, 1, 1, 1, 1, 1, 1, 1]\n",
            "k =12, upper bound on prob = 1.81470\n",
            "\n",
            "N =  [12, 12, 12, 1, 1, 1, 1, 1, 1, 1, 1, 1, 1, 1, 1]\n",
            "k =13, upper bound on prob = 1.32322\n",
            "\n",
            "N =  [12, 12, 12, 1, 1, 1, 1, 1, 1, 1, 1, 1, 1, 1, 1, 1]\n",
            "k =14, upper bound on prob = 0.96385\n",
            "\n",
            "N =  [11, 11, 11, 1, 1, 1, 1, 1, 1, 1, 1, 1, 1, 1, 1, 1, 1]\n",
            "k =15, upper bound on prob = 0.26589\n",
            "\n",
            "N =  [11, 11, 11, 1, 1, 1, 1, 1, 1, 1, 1, 1, 1, 1, 1, 1, 1, 1]\n",
            "k =16, upper bound on prob = 0.18612\n",
            "\n",
            "N =  [11, 11, 11, 1, 1, 1, 1, 1, 1, 1, 1, 1, 1, 1, 1, 1, 1, 1, 1]\n",
            "k =17, upper bound on prob = 0.13081\n",
            "\n",
            "N =  [10, 10, 10, 1, 1, 1, 1, 1, 1, 1, 1, 1, 1, 1, 1, 1, 1, 1, 1, 1]\n",
            "k =18, upper bound on prob = 0.02337\n",
            "\n",
            "N =  [10, 10, 10, 1, 1, 1, 1, 1, 1, 1, 1, 1, 1, 1, 1, 1, 1, 1, 1, 1, 1]\n",
            "k =19, upper bound on prob = 0.01590\n",
            "\n",
            "N =  [10, 10, 10, 1, 1, 1, 1, 1, 1, 1, 1, 1, 1, 1, 1, 1, 1, 1, 1, 1, 1, 1]\n",
            "k =20, upper bound on prob = 0.01090\n",
            "\n",
            "N =  [9, 9, 9, 1, 1, 1, 1, 1, 1, 1, 1, 1, 1, 1, 1, 1, 1, 1, 1, 1, 1, 1, 1]\n",
            "k =21, upper bound on prob = 0.00107\n",
            "\n",
            "N =  [9, 9, 9, 1, 1, 1, 1, 1, 1, 1, 1, 1, 1, 1, 1, 1, 1, 1, 1, 1, 1, 1, 1, 1]\n",
            "k =22, upper bound on prob = 0.00072\n",
            "\n",
            "N =  [9, 9, 9, 1, 1, 1, 1, 1, 1, 1, 1, 1, 1, 1, 1, 1, 1, 1, 1, 1, 1, 1, 1, 1, 1]\n",
            "k =23, upper bound on prob = 0.00048\n",
            "\n",
            "N =  [8, 8, 8, 1, 1, 1, 1, 1, 1, 1, 1, 1, 1, 1, 1, 1, 1, 1, 1, 1, 1, 1, 1, 1, 1, 1]\n",
            "k =24, upper bound on prob = 0.00002\n",
            "\n",
            "N =  [8, 8, 8, 1, 1, 1, 1, 1, 1, 1, 1, 1, 1, 1, 1, 1, 1, 1, 1, 1, 1, 1, 1, 1, 1, 1, 1]\n",
            "k =25, upper bound on prob = 0.00001\n",
            "\n",
            "N =  [8, 8, 8, 1, 1, 1, 1, 1, 1, 1, 1, 1, 1, 1, 1, 1, 1, 1, 1, 1, 1, 1, 1, 1, 1, 1, 1, 1]\n",
            "k =26, upper bound on prob = 0.00001\n",
            "\n",
            "N =  [7, 7, 7, 1, 1, 1, 1, 1, 1, 1, 1, 1, 1, 1, 1, 1, 1, 1, 1, 1, 1, 1, 1, 1, 1, 1, 1, 1, 1]\n",
            "k =27, upper bound on prob = 0.00000\n",
            "\n",
            "N =  [7, 7, 7, 1, 1, 1, 1, 1, 1, 1, 1, 1, 1, 1, 1, 1, 1, 1, 1, 1, 1, 1, 1, 1, 1, 1, 1, 1, 1, 1]\n",
            "k =28, upper bound on prob = 0.00000\n",
            "\n",
            "N =  [7, 7, 7, 1, 1, 1, 1, 1, 1, 1, 1, 1, 1, 1, 1, 1, 1, 1, 1, 1, 1, 1, 1, 1, 1, 1, 1, 1, 1, 1, 1]\n",
            "k =29, upper bound on prob = 0.00000\n",
            "\n",
            "N =  [6, 6, 6, 1, 1, 1, 1, 1, 1, 1, 1, 1, 1, 1, 1, 1, 1, 1, 1, 1, 1, 1, 1, 1, 1, 1, 1, 1, 1, 1, 1, 1]\n",
            "k =30, upper bound on prob = nan\n",
            "\n",
            "N =  [6, 6, 6, 1, 1, 1, 1, 1, 1, 1, 1, 1, 1, 1, 1, 1, 1, 1, 1, 1, 1, 1, 1, 1, 1, 1, 1, 1, 1, 1, 1, 1, 1]\n",
            "k =31, upper bound on prob = nan\n",
            "\n",
            "N =  [6, 6, 6, 1, 1, 1, 1, 1, 1, 1, 1, 1, 1, 1, 1, 1, 1, 1, 1, 1, 1, 1, 1, 1, 1, 1, 1, 1, 1, 1, 1, 1, 1, 1]\n",
            "k =32, upper bound on prob = nan\n",
            "\n",
            "N =  [5, 5, 5, 1, 1, 1, 1, 1, 1, 1, 1, 1, 1, 1, 1, 1, 1, 1, 1, 1, 1, 1, 1, 1, 1, 1, 1, 1, 1, 1, 1, 1, 1, 1, 1]\n",
            "k =33, upper bound on prob = nan\n",
            "\n",
            "N =  [5, 5, 5, 1, 1, 1, 1, 1, 1, 1, 1, 1, 1, 1, 1, 1, 1, 1, 1, 1, 1, 1, 1, 1, 1, 1, 1, 1, 1, 1, 1, 1, 1, 1, 1, 1]\n",
            "k =34, upper bound on prob = nan\n",
            "\n",
            "N =  [5, 5, 5, 1, 1, 1, 1, 1, 1, 1, 1, 1, 1, 1, 1, 1, 1, 1, 1, 1, 1, 1, 1, 1, 1, 1, 1, 1, 1, 1, 1, 1, 1, 1, 1, 1, 1]\n",
            "k =35, upper bound on prob = nan\n",
            "\n",
            "N =  [4, 4, 4, 1, 1, 1, 1, 1, 1, 1, 1, 1, 1, 1, 1, 1, 1, 1, 1, 1, 1, 1, 1, 1, 1, 1, 1, 1, 1, 1, 1, 1, 1, 1, 1, 1, 1, 1]\n",
            "k =36, upper bound on prob = nan\n",
            "\n",
            "N =  [4, 4, 4, 1, 1, 1, 1, 1, 1, 1, 1, 1, 1, 1, 1, 1, 1, 1, 1, 1, 1, 1, 1, 1, 1, 1, 1, 1, 1, 1, 1, 1, 1, 1, 1, 1, 1, 1, 1]\n",
            "k =37, upper bound on prob = nan\n",
            "\n",
            "N =  [4, 4, 4, 1, 1, 1, 1, 1, 1, 1, 1, 1, 1, 1, 1, 1, 1, 1, 1, 1, 1, 1, 1, 1, 1, 1, 1, 1, 1, 1, 1, 1, 1, 1, 1, 1, 1, 1, 1, 1]\n",
            "k =38, upper bound on prob = nan\n",
            "\n",
            "N =  [3, 3, 3, 1, 1, 1, 1, 1, 1, 1, 1, 1, 1, 1, 1, 1, 1, 1, 1, 1, 1, 1, 1, 1, 1, 1, 1, 1, 1, 1, 1, 1, 1, 1, 1, 1, 1, 1, 1, 1, 1]\n",
            "k =39, upper bound on prob = nan\n",
            "\n"
          ],
          "name": "stdout"
        },
        {
          "output_type": "stream",
          "text": [
            "/usr/local/lib/python3.6/dist-packages/ipykernel_launcher.py:21: RuntimeWarning: invalid value encountered in double_scalars\n"
          ],
          "name": "stderr"
        }
      ]
    },
    {
      "cell_type": "markdown",
      "metadata": {
        "id": "OUF1W2PSgY3_",
        "colab_type": "text"
      },
      "source": [
        "We confirm the quality of the function above by comparing it to a monte carlo estimate."
      ]
    },
    {
      "cell_type": "code",
      "metadata": {
        "id": "ktHLd8pSi7D7",
        "colab_type": "code",
        "colab": {
          "base_uri": "https://localhost:8080/",
          "height": 52
        },
        "outputId": "398ef3b9-406c-464c-e0fc-6d43472679de"
      },
      "source": [
        "n = 10000 # number of simulations\n",
        "N = [15,15,15,1,1]\n",
        "\n",
        "num_three = 0\n",
        "for i in range(n):\n",
        "    out = draw_from_urn(20,N) > 0\n",
        "    if(np.all(out[:3]) and not np.any(out[3:])):  # if there is at least one of each color\n",
        "        num_three += 1\n",
        "\n",
        "print(\"Estimate: \", num_three/n)\n",
        "\n",
        "print(\"True answer: \", prob_3_colors_drawn(20, N))\n",
        "\n"
      ],
      "execution_count": null,
      "outputs": [
        {
          "output_type": "stream",
          "text": [
            "Estimate:  0.331\n",
            "True answer:  0.32469011964911704\n"
          ],
          "name": "stdout"
        }
      ]
    }
  ]
}